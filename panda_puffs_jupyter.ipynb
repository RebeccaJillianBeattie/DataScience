{
 "cells": [
  {
   "cell_type": "markdown",
   "id": "388c2245-01a2-4a84-a753-4c534a96c877",
   "metadata": {},
   "source": [
    "# <center> Data Science Project: panda_puffs </center>"
   ]
  },
  {
   "cell_type": "markdown",
   "id": "5dde1cb8-2644-4113-a7be-756625b83d4b",
   "metadata": {},
   "source": [
    "##### <center> Rebecca Beattie, Van Le, Carmela Santaniello, Ying Zhao </center>\n"
   ]
  },
  {
   "cell_type": "markdown",
   "id": "a3dbdd9b-047c-4389-9bee-5008315fb33f",
   "metadata": {},
   "source": [
    "<center><img src=\"Images/KungFuPandaKick.jpg\" width=\"500\"/><center>"
   ]
  },
  {
   "cell_type": "markdown",
   "id": "94eff477-82f8-468f-959b-6f956269cc9b",
   "metadata": {},
   "source": [
    "This Jupyter notebook contains notes relating to the final project of the 'Data Science' module of the integrated course 'Computational Management of Data' for the masters-level degree in Digital Humanities and Digital Knowledge at the University of Bologna, 2021-2022. It is structured as follows:\n",
    "\n",
    "1. Descriptive Statistics: General\n",
    "\n",
    "    1.1. Relational Data\n",
    "         1.1.1. Introductory Descriptive Statistics\n",
    "         1.1.2. Visualisations\n",
    "         1.1.3. Reflections on Descriptive Statistics\n",
    "         1.1.4. Cleaning the Data Before Creating the Relational Database\n",
    "         1.1.5. Remarks Prior to the Construction of the Relational Database\n",
    "         1.1.6. Remarks on Additions to the Relational Query Processor\n",
    "        \n",
    "    1.2. Graph Triplestore Data \n",
    "         1.2.1. Introductory Descriptive Statistics\n",
    "         1.2.2. Visualisations\n",
    "         1.2.3. Reflections on Descriptive Statistics\n",
    "\n",
    "\n",
    "2. Taking a Look at the JSON Data Files\n",
    "        2.1. \"authors\"\n",
    "        2.2. \"venue_id\"\n",
    "        2.3. \"references\"\n",
    "        2.4. \"publishers\"\n",
    "        \n",
    "      \n",
    "3. Description of Project Files\n",
    "        3.1. Data\n",
    "        3.2. impl.py\n",
    "        3.3. results.py\n",
    "    "
   ]
  },
  {
   "cell_type": "markdown",
   "id": "71dc5c80-22e4-4dc7-b514-32798d695c57",
   "metadata": {},
   "source": [
    "<center><img src=\"Images/KungFuPandaKids2.jpg\" width=\"500\"/><center>"
   ]
  },
  {
   "cell_type": "markdown",
   "id": "1a472746-d598-47d9-83b9-1449858d5885",
   "metadata": {},
   "source": [
    "## 1. Descriptive Statistics: General"
   ]
  },
  {
   "cell_type": "markdown",
   "id": "ea292fec-9109-4bba-9ffd-74039a58c754",
   "metadata": {},
   "source": [
    "In order to carry out descriptive statistics on the CSV files we use two Pandas methods: the info method and the describe method.\n",
    "\n",
    "The info method tells us:\n",
    "* How many rows and columns the file contains\n",
    "* The name of each column\n",
    "* How many cells of the file are empty\n",
    "* The data type of each column\n",
    "\n",
    "The describe method gives us more statistical information:\n",
    "* The number of values in each column\n",
    "* The number of unique values in each column\n",
    "* The most popular value in each column\n",
    "* The frequency of the most popular value in each column\n",
    "* The mean of numerical columns\n",
    "* The standard deviation of numerical columns\n",
    "* The minimum value of numerical columns \n",
    "* The value of each column at different quartiles (25%, 50%, and 75%)\n",
    "* The maximum value of numerical columns"
   ]
  },
  {
   "cell_type": "markdown",
   "id": "f2de8670-604a-43bb-b371-65b5a5467c7b",
   "metadata": {},
   "source": [
    "### 1.1. Relational Data"
   ]
  },
  {
   "cell_type": "markdown",
   "id": "c9681b16-6a2f-46c8-b67c-6e72446c3d18",
   "metadata": {},
   "source": [
    "#### 1.1.1. Introductory Descriptive Statistics"
   ]
  },
  {
   "cell_type": "markdown",
   "id": "523617d8-994f-4850-9045-e38fbfaae483",
   "metadata": {},
   "source": [
    "The following code runs the Pandas info method on the CSV file for the relational database."
   ]
  },
  {
   "cell_type": "code",
   "execution_count": 3,
   "id": "d08a1613-df79-4c0a-9e20-bbebf12285a1",
   "metadata": {
    "tags": []
   },
   "outputs": [
    {
     "name": "stdout",
     "output_type": "stream",
     "text": [
      "<class 'pandas.core.frame.DataFrame'>\n",
      "RangeIndex: 500 entries, 0 to 499\n",
      "Data columns (total 11 columns):\n",
      " #   Column             Non-Null Count  Dtype  \n",
      "---  ------             --------------  -----  \n",
      " 0   id                 500 non-null    object \n",
      " 1   title              500 non-null    object \n",
      " 2   type               500 non-null    object \n",
      " 3   publication_year   500 non-null    int64  \n",
      " 4   issue              347 non-null    object \n",
      " 5   volume             443 non-null    object \n",
      " 6   chapter            22 non-null     float64\n",
      " 7   publication_venue  498 non-null    object \n",
      " 8   venue_type         498 non-null    object \n",
      " 9   publisher          498 non-null    object \n",
      " 10  event              0 non-null      float64\n",
      "dtypes: float64(2), int64(1), object(8)\n",
      "memory usage: 43.1+ KB\n"
     ]
    }
   ],
   "source": [
    "from pandas import read_csv\n",
    "\n",
    "publicationsr = read_csv(\"relational_publications.csv\")\n",
    "publicationsr.info()"
   ]
  },
  {
   "cell_type": "markdown",
   "id": "eed7433b-f1f2-4b22-8e81-4b6b9995e0ec",
   "metadata": {},
   "source": [
    "We can conclude:\n",
    "* The CSV file contains 500 rows and 11 columns\n",
    "* The column names are: \"id\", \"title\", \"type\", \"publication_year\", \"issue\", \"volume\", \"chapter\", \"publication_venue\", \"venue_type\", \"publisher\", \"event\"\n",
    "* The \"id\", \"title\", \"type\", and \"publication_year\" columns always have a value\n",
    "* The \"issue\", \"volume\", \"chapter\", \"publication_year\", \"venue_type\", and \"publisher\" columns do not always have a value\n",
    "* The \"event\" column never has a value\n",
    "* The columns \"chapter\" and \"event\" contain values considered to be floating numbers, when the UML diagram tells us they should be integers and strings respectively"
   ]
  },
  {
   "cell_type": "markdown",
   "id": "5ce2cd0f-cb81-46bf-a1bb-dfaf74390954",
   "metadata": {},
   "source": [
    "The following code runs the decribe method on the CSV file for the relational database."
   ]
  },
  {
   "cell_type": "code",
   "execution_count": 4,
   "id": "7c989d56-61a5-44e1-bb12-fffbcbfc52d9",
   "metadata": {},
   "outputs": [
    {
     "data": {
      "text/html": [
       "<div>\n",
       "<style scoped>\n",
       "    .dataframe tbody tr th:only-of-type {\n",
       "        vertical-align: middle;\n",
       "    }\n",
       "\n",
       "    .dataframe tbody tr th {\n",
       "        vertical-align: top;\n",
       "    }\n",
       "\n",
       "    .dataframe thead th {\n",
       "        text-align: right;\n",
       "    }\n",
       "</style>\n",
       "<table border=\"1\" class=\"dataframe\">\n",
       "  <thead>\n",
       "    <tr style=\"text-align: right;\">\n",
       "      <th></th>\n",
       "      <th>id</th>\n",
       "      <th>title</th>\n",
       "      <th>type</th>\n",
       "      <th>publication_year</th>\n",
       "      <th>issue</th>\n",
       "      <th>volume</th>\n",
       "      <th>chapter</th>\n",
       "      <th>publication_venue</th>\n",
       "      <th>venue_type</th>\n",
       "      <th>publisher</th>\n",
       "      <th>event</th>\n",
       "    </tr>\n",
       "  </thead>\n",
       "  <tbody>\n",
       "    <tr>\n",
       "      <th>count</th>\n",
       "      <td>500</td>\n",
       "      <td>500</td>\n",
       "      <td>500</td>\n",
       "      <td>500.000000</td>\n",
       "      <td>347</td>\n",
       "      <td>443</td>\n",
       "      <td>22.000000</td>\n",
       "      <td>498</td>\n",
       "      <td>498</td>\n",
       "      <td>498</td>\n",
       "      <td>0.0</td>\n",
       "    </tr>\n",
       "    <tr>\n",
       "      <th>unique</th>\n",
       "      <td>500</td>\n",
       "      <td>500</td>\n",
       "      <td>2</td>\n",
       "      <td>NaN</td>\n",
       "      <td>31</td>\n",
       "      <td>149</td>\n",
       "      <td>NaN</td>\n",
       "      <td>295</td>\n",
       "      <td>2</td>\n",
       "      <td>32</td>\n",
       "      <td>NaN</td>\n",
       "    </tr>\n",
       "    <tr>\n",
       "      <th>top</th>\n",
       "      <td>doi:10.3390/f9040223</td>\n",
       "      <td>A Systematic Review Of Construction And Demoli...</td>\n",
       "      <td>journal-article</td>\n",
       "      <td>NaN</td>\n",
       "      <td>1</td>\n",
       "      <td>11</td>\n",
       "      <td>NaN</td>\n",
       "      <td>Scientometrics</td>\n",
       "      <td>journal</td>\n",
       "      <td>crossref:297</td>\n",
       "      <td>NaN</td>\n",
       "    </tr>\n",
       "    <tr>\n",
       "      <th>freq</th>\n",
       "      <td>1</td>\n",
       "      <td>1</td>\n",
       "      <td>478</td>\n",
       "      <td>NaN</td>\n",
       "      <td>69</td>\n",
       "      <td>29</td>\n",
       "      <td>NaN</td>\n",
       "      <td>50</td>\n",
       "      <td>478</td>\n",
       "      <td>145</td>\n",
       "      <td>NaN</td>\n",
       "    </tr>\n",
       "    <tr>\n",
       "      <th>mean</th>\n",
       "      <td>NaN</td>\n",
       "      <td>NaN</td>\n",
       "      <td>NaN</td>\n",
       "      <td>2019.558000</td>\n",
       "      <td>NaN</td>\n",
       "      <td>NaN</td>\n",
       "      <td>0.909091</td>\n",
       "      <td>NaN</td>\n",
       "      <td>NaN</td>\n",
       "      <td>NaN</td>\n",
       "      <td>NaN</td>\n",
       "    </tr>\n",
       "    <tr>\n",
       "      <th>std</th>\n",
       "      <td>NaN</td>\n",
       "      <td>NaN</td>\n",
       "      <td>NaN</td>\n",
       "      <td>1.512353</td>\n",
       "      <td>NaN</td>\n",
       "      <td>NaN</td>\n",
       "      <td>0.294245</td>\n",
       "      <td>NaN</td>\n",
       "      <td>NaN</td>\n",
       "      <td>NaN</td>\n",
       "      <td>NaN</td>\n",
       "    </tr>\n",
       "    <tr>\n",
       "      <th>min</th>\n",
       "      <td>NaN</td>\n",
       "      <td>NaN</td>\n",
       "      <td>NaN</td>\n",
       "      <td>2014.000000</td>\n",
       "      <td>NaN</td>\n",
       "      <td>NaN</td>\n",
       "      <td>0.000000</td>\n",
       "      <td>NaN</td>\n",
       "      <td>NaN</td>\n",
       "      <td>NaN</td>\n",
       "      <td>NaN</td>\n",
       "    </tr>\n",
       "    <tr>\n",
       "      <th>25%</th>\n",
       "      <td>NaN</td>\n",
       "      <td>NaN</td>\n",
       "      <td>NaN</td>\n",
       "      <td>2018.000000</td>\n",
       "      <td>NaN</td>\n",
       "      <td>NaN</td>\n",
       "      <td>1.000000</td>\n",
       "      <td>NaN</td>\n",
       "      <td>NaN</td>\n",
       "      <td>NaN</td>\n",
       "      <td>NaN</td>\n",
       "    </tr>\n",
       "    <tr>\n",
       "      <th>50%</th>\n",
       "      <td>NaN</td>\n",
       "      <td>NaN</td>\n",
       "      <td>NaN</td>\n",
       "      <td>2020.000000</td>\n",
       "      <td>NaN</td>\n",
       "      <td>NaN</td>\n",
       "      <td>1.000000</td>\n",
       "      <td>NaN</td>\n",
       "      <td>NaN</td>\n",
       "      <td>NaN</td>\n",
       "      <td>NaN</td>\n",
       "    </tr>\n",
       "    <tr>\n",
       "      <th>75%</th>\n",
       "      <td>NaN</td>\n",
       "      <td>NaN</td>\n",
       "      <td>NaN</td>\n",
       "      <td>2021.000000</td>\n",
       "      <td>NaN</td>\n",
       "      <td>NaN</td>\n",
       "      <td>1.000000</td>\n",
       "      <td>NaN</td>\n",
       "      <td>NaN</td>\n",
       "      <td>NaN</td>\n",
       "      <td>NaN</td>\n",
       "    </tr>\n",
       "    <tr>\n",
       "      <th>max</th>\n",
       "      <td>NaN</td>\n",
       "      <td>NaN</td>\n",
       "      <td>NaN</td>\n",
       "      <td>2021.000000</td>\n",
       "      <td>NaN</td>\n",
       "      <td>NaN</td>\n",
       "      <td>1.000000</td>\n",
       "      <td>NaN</td>\n",
       "      <td>NaN</td>\n",
       "      <td>NaN</td>\n",
       "      <td>NaN</td>\n",
       "    </tr>\n",
       "  </tbody>\n",
       "</table>\n",
       "</div>"
      ],
      "text/plain": [
       "                          id  \\\n",
       "count                    500   \n",
       "unique                   500   \n",
       "top     doi:10.3390/f9040223   \n",
       "freq                       1   \n",
       "mean                     NaN   \n",
       "std                      NaN   \n",
       "min                      NaN   \n",
       "25%                      NaN   \n",
       "50%                      NaN   \n",
       "75%                      NaN   \n",
       "max                      NaN   \n",
       "\n",
       "                                                    title             type  \\\n",
       "count                                                 500              500   \n",
       "unique                                                500                2   \n",
       "top     A Systematic Review Of Construction And Demoli...  journal-article   \n",
       "freq                                                    1              478   \n",
       "mean                                                  NaN              NaN   \n",
       "std                                                   NaN              NaN   \n",
       "min                                                   NaN              NaN   \n",
       "25%                                                   NaN              NaN   \n",
       "50%                                                   NaN              NaN   \n",
       "75%                                                   NaN              NaN   \n",
       "max                                                   NaN              NaN   \n",
       "\n",
       "        publication_year issue volume    chapter publication_venue venue_type  \\\n",
       "count         500.000000   347    443  22.000000               498        498   \n",
       "unique               NaN    31    149        NaN               295          2   \n",
       "top                  NaN     1     11        NaN    Scientometrics    journal   \n",
       "freq                 NaN    69     29        NaN                50        478   \n",
       "mean         2019.558000   NaN    NaN   0.909091               NaN        NaN   \n",
       "std             1.512353   NaN    NaN   0.294245               NaN        NaN   \n",
       "min          2014.000000   NaN    NaN   0.000000               NaN        NaN   \n",
       "25%          2018.000000   NaN    NaN   1.000000               NaN        NaN   \n",
       "50%          2020.000000   NaN    NaN   1.000000               NaN        NaN   \n",
       "75%          2021.000000   NaN    NaN   1.000000               NaN        NaN   \n",
       "max          2021.000000   NaN    NaN   1.000000               NaN        NaN   \n",
       "\n",
       "           publisher  event  \n",
       "count            498    0.0  \n",
       "unique            32    NaN  \n",
       "top     crossref:297    NaN  \n",
       "freq             145    NaN  \n",
       "mean             NaN    NaN  \n",
       "std              NaN    NaN  \n",
       "min              NaN    NaN  \n",
       "25%              NaN    NaN  \n",
       "50%              NaN    NaN  \n",
       "75%              NaN    NaN  \n",
       "max              NaN    NaN  "
      ]
     },
     "execution_count": 4,
     "metadata": {},
     "output_type": "execute_result"
    }
   ],
   "source": [
    "publicationsr.describe(include=\"all\")"
   ]
  },
  {
   "cell_type": "markdown",
   "id": "9d8e8030-5bd9-4bfe-9fe6-000fe33c655e",
   "metadata": {},
   "source": [
    "We can conclude:\n",
    "* The \"id\" and \"title\" columns always have a unique value\n",
    "* The \"type\" column only has 2 unique values (when the UML diagram tells us there are 3 - JournalArticle, BookChapter, and ProceedingsPaper)\n",
    "* The \"venue_type\" column only has 2 unique values (when the UML diagram tells us there are 3 - Journal, Book, Proceedings)\n",
    "* Of all the publications in the table, 478 out of 500 are journal articles (we can deduce that the other 22 are book chapters since there are only 2 unique values in the \"type\" column, and some have chapter numbers - an attribute only associated with books and not proceedings)\n",
    "* The above is also reflected in the venue type of each publication, with 478 out of 500 publications published in journals\n",
    "* 498 publications have a publication venue, meaning only 2 do not (in line with the UML diagram which states a publication may have 0 or 1 publication venues)\n",
    "* 145 of the 500 publications were published by the same publisher \n",
    "* The mean year of publication is 2019\n",
    "* The earliest date of publication is 2014, while the latest is 2018\n",
    "* The mean chapter number for book chapters is 0.909091 which implies that some publications have a chapter number less than 1"
   ]
  },
  {
   "cell_type": "markdown",
   "id": "f3f61a4f-2613-436d-a73d-6a516af6a64b",
   "metadata": {},
   "source": [
    "#### 1.1.2. Visualisations"
   ]
  },
  {
   "cell_type": "markdown",
   "id": "7e9aeef7-bb8c-43d0-99b4-b550aa91d2fb",
   "metadata": {},
   "source": [
    "The following code confirms the deduction that all publications are either journals articles or book chapters using the unique method. We can then visualise the elevated frequency of journal articles using the value_counts method followed by the plot method."
   ]
  },
  {
   "cell_type": "code",
   "execution_count": 5,
   "id": "6b93ccd9-7a58-4959-8930-63c42f9e64c1",
   "metadata": {},
   "outputs": [
    {
     "data": {
      "text/plain": [
       "array(['journal-article', 'book-chapter'], dtype=object)"
      ]
     },
     "execution_count": 5,
     "metadata": {},
     "output_type": "execute_result"
    }
   ],
   "source": [
    "publicationsr[\"type\"].unique()"
   ]
  },
  {
   "cell_type": "code",
   "execution_count": 6,
   "id": "6c1b9a02-e3b5-4249-9412-970a79cd1514",
   "metadata": {},
   "outputs": [
    {
     "data": {
      "text/plain": [
       "<AxesSubplot:>"
      ]
     },
     "execution_count": 6,
     "metadata": {},
     "output_type": "execute_result"
    },
    {
     "data": {
      "image/png": "[encoded data removed]",
      "text/plain": [
       "<Figure size 432x288 with 1 Axes>"
      ]
     },
     "metadata": {
      "needs_background": "light"
     },
     "output_type": "display_data"
    }
   ],
   "source": [
    "type_countr = publicationsr[\"type\"].value_counts()\n",
    "type_countr.plot(kind=\"bar\")"
   ]
  },
  {
   "cell_type": "markdown",
   "id": "2f6f83c0-7a63-479d-ab92-f059efca82d3",
   "metadata": {},
   "source": [
    "For interest, we can visualise the top ten publication venues using a barplot. This shows us that the publication \"Scientometrics\" is by far the most popular publication venue."
   ]
  },
  {
   "cell_type": "code",
   "execution_count": 7,
   "id": "c40e4891-33d5-4917-9a30-3ebc6db2ed04",
   "metadata": {},
   "outputs": [
    {
     "data": {
      "text/plain": [
       "<AxesSubplot:>"
      ]
     },
     "execution_count": 7,
     "metadata": {},
     "output_type": "execute_result"
    },
    {
     "data": {
      "image/png": "[encoded data removed]",
      "text/plain": [
       "<Figure size 432x288 with 1 Axes>"
      ]
     },
     "metadata": {
      "needs_background": "light"
     },
     "output_type": "display_data"
    }
   ],
   "source": [
    "top_venuesr = publicationsr[\"publication_venue\"].value_counts()[:10]\n",
    "top_venuesr.plot(kind=\"barh\")"
   ]
  },
  {
   "cell_type": "markdown",
   "id": "3756055f-b4dd-4f54-ac37-05f402715e52",
   "metadata": {},
   "source": [
    "We can use the same approach to visualise the top ten publishers, although its informativity is limited due to the use of reference numbers instead of publisher names in this file. Nevertheless, we can see that 3 publishers more or less monopolise the publishing of publications."
   ]
  },
  {
   "cell_type": "code",
   "execution_count": 8,
   "id": "363ab60a-97b8-4d0c-ab55-3463e106730c",
   "metadata": {},
   "outputs": [
    {
     "data": {
      "text/plain": [
       "<AxesSubplot:>"
      ]
     },
     "execution_count": 8,
     "metadata": {},
     "output_type": "execute_result"
    },
    {
     "data": {
      "image/png": "[encoded data removed]",
      "text/plain": [
       "<Figure size 432x288 with 1 Axes>"
      ]
     },
     "metadata": {
      "needs_background": "light"
     },
     "output_type": "display_data"
    }
   ],
   "source": [
    "top_publishersr = publicationsr[\"publisher\"].value_counts()[:10]\n",
    "top_publishersr.plot(kind=\"barh\")"
   ]
  },
  {
   "cell_type": "markdown",
   "id": "7a1e1b1b-cca1-4e68-9cc7-81c758451eb9",
   "metadata": {},
   "source": [
    "Also for interest, we can visualise how many publications were published in each year using a time series. This confirms the earliest and latest publication dates, and the mean publication date of 2019. It also allows us to see that the number of publications per year started to increase after 2017, dipped a little in 2020 (perhaps corresponding with the Covid pandemic), and rose rapidly between 2020 and 2021."
   ]
  },
  {
   "cell_type": "code",
   "execution_count": 9,
   "id": "022bd34e-55fa-472a-a5bd-718bf3ba5516",
   "metadata": {},
   "outputs": [
    {
     "data": {
      "text/plain": [
       "<AxesSubplot:>"
      ]
     },
     "execution_count": 9,
     "metadata": {},
     "output_type": "execute_result"
    },
    {
     "data": {
      "image/png": "[encoded data removed]",
      "text/plain": [
       "<Figure size 432x288 with 1 Axes>"
      ]
     },
     "metadata": {
      "needs_background": "light"
     },
     "output_type": "display_data"
    }
   ],
   "source": [
    "publicationsr_per_year = publicationsr[\"publication_year\"].value_counts()\n",
    "publicationsr_per_year_sorted = publicationsr_per_year.sort_index()\n",
    "publicationsr_per_year_sorted.plot()"
   ]
  },
  {
   "cell_type": "markdown",
   "id": "7d3a1ead-c489-4399-8857-f900c211d9d3",
   "metadata": {},
   "source": [
    "#### 1.1.3. Reflections on Descriptive Statistics "
   ]
  },
  {
   "cell_type": "markdown",
   "id": "83c0a5e7-0d7f-493e-b60f-dafc652a76ea",
   "metadata": {},
   "source": [
    "After analysing the CSV data using descriptive statistics methods, several aspects are worth highlighting:\n",
    "* No publications are proceedings papers, meaning no publication venues are proceedings, and no publications have the event attribute\n",
    "* If we take the \"id\" column to represent the id attribute of the class IdentifiableEntity, it is worth noting that, for publications, there is never more than 1 value (the UML model indicates that there may be 1 or more)\n",
    "* Since the mean chapter number is less than 1, we can infer that some publications have been assigned 0 as a chapter number \n",
    "* The value for the \"publisher\" column is a reference number in the form 'crossref:XX(XX)' (which connects to the JSON file)\n",
    "\n",
    "We can combine these conclusions with some conclusions drawn from manually looking at the file:\n",
    "* If present, the value for the \"issue\" column is sometimes an integer, sometimes a date, and once in the form 'ahead-of-print'\n",
    "* If present, the value for the \"volume\" column is sometimes an integer, sometimes in the form 'Volume XX', and once in the form 'ahead-of-print'\n",
    "* The publications with chapter number 0 do not have a value for the \"publication_venue\", \"venue_type\", or \"publisher\" columns\n",
    "* Some publications are clearly proceedings papers which have been wrongly classified as books"
   ]
  },
  {
   "cell_type": "markdown",
   "id": "e5617c6b-8e27-4013-8178-1d0b48a4839f",
   "metadata": {},
   "source": [
    "#### 1.1.4. Cleaning the Data Before Creating the Relational Database"
   ]
  },
  {
   "cell_type": "markdown",
   "id": "a589de51-ed28-417e-8192-27b004b4879a",
   "metadata": {},
   "source": [
    "Given the above reflections, and in order to ensure that the queries we will carry out on the relational database return responses which are truly faithful to the original data, we have cleaned the relational_publications.csv and the relational_other_data.json files in several ways:\n",
    "* We identified 15 publications as proceedings papers and re-classified these as such, altering the value for the columns \"type\", \"venue_type\", and \"event\" in the CSV file to reflect this\n",
    "* Since \"ahead-of-print\" appeared for the \"issue\" and \"volume\" columns in the CSV file of one publication (published in 2021), we replaced these with the real values, obtained from a quick internet search\n",
    "* We standardised the format of values in the \"volume\" column of the CSV fule by removing \"Volume \" from some cells, leaving only the number\n",
    "* We addressed the publications with chapter \"0\" in the CSV file by inserting the correct values in columns \"chapter\", \"publication_venue\", and \"venue_type\", obtained from a quick internet search\n",
    "* We also inserted \"Not_Specified\" into the \"publisher\" column of publications that originally had chapter number 0 in the CSV file. Subsequently, we added an entry into the \"publishers\" dictionary of the JSON file to reflect this, and added the name of the publisher, obtained from a quick internet search (since it was the same publisher in both instances)\n",
    "* Additionally, for publications that originally had chapter number 0, we added an entry in the \"venues_id\" dictionary of the JSON file, and added these publications' isbn numbers, obtained from a quick internet search\n",
    "\n",
    "These alternations were carried out using the code in the file named CodeToCleanRelationalData.py, which makes use of the CSV reader and writer methods, and the JSON load and dump methods. It is conceded that this cleaning process is somewhat manual and unique to this particular dataset, and cannot be universally applied to any similar dataset\n",
    "\n",
    "The files upon which we constructed the relational database are therefore the cleaned up versions of the original CSV and JSON files, named \"clean_relational_publications.csv\" and \"clean_json_relational_data.json\", respectively"
   ]
  },
  {
   "cell_type": "markdown",
   "id": "0fc38a7c-a451-4e69-9832-6c26ac4c4d79",
   "metadata": {},
   "source": [
    "To confirm that these changes have occurred, we can take a look at the data in the new CSV file using the same methods as above: info and describe."
   ]
  },
  {
   "cell_type": "code",
   "execution_count": 10,
   "id": "c31172a7-3468-40fd-b520-4406ce9e1785",
   "metadata": {},
   "outputs": [
    {
     "name": "stdout",
     "output_type": "stream",
     "text": [
      "<class 'pandas.core.frame.DataFrame'>\n",
      "RangeIndex: 500 entries, 0 to 499\n",
      "Data columns (total 11 columns):\n",
      " #   Column             Non-Null Count  Dtype  \n",
      "---  ------             --------------  -----  \n",
      " 0   id                 500 non-null    object \n",
      " 1   title              500 non-null    object \n",
      " 2   type               500 non-null    object \n",
      " 3   publication_year   500 non-null    int64  \n",
      " 4   issue              347 non-null    object \n",
      " 5   volume             443 non-null    float64\n",
      " 6   chapter            7 non-null      float64\n",
      " 7   publication_venue  500 non-null    object \n",
      " 8   venue_type         500 non-null    object \n",
      " 9   publisher          500 non-null    object \n",
      " 10  event              15 non-null     object \n",
      "dtypes: float64(2), int64(1), object(8)\n",
      "memory usage: 43.1+ KB\n"
     ]
    },
    {
     "data": {
      "text/html": [
       "<div>\n",
       "<style scoped>\n",
       "    .dataframe tbody tr th:only-of-type {\n",
       "        vertical-align: middle;\n",
       "    }\n",
       "\n",
       "    .dataframe tbody tr th {\n",
       "        vertical-align: top;\n",
       "    }\n",
       "\n",
       "    .dataframe thead th {\n",
       "        text-align: right;\n",
       "    }\n",
       "</style>\n",
       "<table border=\"1\" class=\"dataframe\">\n",
       "  <thead>\n",
       "    <tr style=\"text-align: right;\">\n",
       "      <th></th>\n",
       "      <th>id</th>\n",
       "      <th>title</th>\n",
       "      <th>type</th>\n",
       "      <th>publication_year</th>\n",
       "      <th>issue</th>\n",
       "      <th>volume</th>\n",
       "      <th>chapter</th>\n",
       "      <th>publication_venue</th>\n",
       "      <th>venue_type</th>\n",
       "      <th>publisher</th>\n",
       "      <th>event</th>\n",
       "    </tr>\n",
       "  </thead>\n",
       "  <tbody>\n",
       "    <tr>\n",
       "      <th>count</th>\n",
       "      <td>500</td>\n",
       "      <td>500</td>\n",
       "      <td>500</td>\n",
       "      <td>500.000000</td>\n",
       "      <td>347</td>\n",
       "      <td>443.000000</td>\n",
       "      <td>7.000000</td>\n",
       "      <td>500</td>\n",
       "      <td>500</td>\n",
       "      <td>500</td>\n",
       "      <td>15</td>\n",
       "    </tr>\n",
       "    <tr>\n",
       "      <th>unique</th>\n",
       "      <td>500</td>\n",
       "      <td>500</td>\n",
       "      <td>3</td>\n",
       "      <td>NaN</td>\n",
       "      <td>30</td>\n",
       "      <td>NaN</td>\n",
       "      <td>NaN</td>\n",
       "      <td>297</td>\n",
       "      <td>3</td>\n",
       "      <td>33</td>\n",
       "      <td>12</td>\n",
       "    </tr>\n",
       "    <tr>\n",
       "      <th>top</th>\n",
       "      <td>doi:10.3390/f9040223</td>\n",
       "      <td>A Systematic Review Of Construction And Demoli...</td>\n",
       "      <td>journal-article</td>\n",
       "      <td>NaN</td>\n",
       "      <td>1</td>\n",
       "      <td>NaN</td>\n",
       "      <td>NaN</td>\n",
       "      <td>Scientometrics</td>\n",
       "      <td>journal</td>\n",
       "      <td>crossref:297</td>\n",
       "      <td>22nd International Conference on Knowledge Eng...</td>\n",
       "    </tr>\n",
       "    <tr>\n",
       "      <th>freq</th>\n",
       "      <td>1</td>\n",
       "      <td>1</td>\n",
       "      <td>478</td>\n",
       "      <td>NaN</td>\n",
       "      <td>69</td>\n",
       "      <td>NaN</td>\n",
       "      <td>NaN</td>\n",
       "      <td>50</td>\n",
       "      <td>478</td>\n",
       "      <td>145</td>\n",
       "      <td>3</td>\n",
       "    </tr>\n",
       "    <tr>\n",
       "      <th>mean</th>\n",
       "      <td>NaN</td>\n",
       "      <td>NaN</td>\n",
       "      <td>NaN</td>\n",
       "      <td>2019.558000</td>\n",
       "      <td>NaN</td>\n",
       "      <td>94.415350</td>\n",
       "      <td>3.714286</td>\n",
       "      <td>NaN</td>\n",
       "      <td>NaN</td>\n",
       "      <td>NaN</td>\n",
       "      <td>NaN</td>\n",
       "    </tr>\n",
       "    <tr>\n",
       "      <th>std</th>\n",
       "      <td>NaN</td>\n",
       "      <td>NaN</td>\n",
       "      <td>NaN</td>\n",
       "      <td>1.512353</td>\n",
       "      <td>NaN</td>\n",
       "      <td>244.443442</td>\n",
       "      <td>5.618846</td>\n",
       "      <td>NaN</td>\n",
       "      <td>NaN</td>\n",
       "      <td>NaN</td>\n",
       "      <td>NaN</td>\n",
       "    </tr>\n",
       "    <tr>\n",
       "      <th>min</th>\n",
       "      <td>NaN</td>\n",
       "      <td>NaN</td>\n",
       "      <td>NaN</td>\n",
       "      <td>2014.000000</td>\n",
       "      <td>NaN</td>\n",
       "      <td>1.000000</td>\n",
       "      <td>1.000000</td>\n",
       "      <td>NaN</td>\n",
       "      <td>NaN</td>\n",
       "      <td>NaN</td>\n",
       "      <td>NaN</td>\n",
       "    </tr>\n",
       "    <tr>\n",
       "      <th>25%</th>\n",
       "      <td>NaN</td>\n",
       "      <td>NaN</td>\n",
       "      <td>NaN</td>\n",
       "      <td>2018.000000</td>\n",
       "      <td>NaN</td>\n",
       "      <td>13.000000</td>\n",
       "      <td>1.000000</td>\n",
       "      <td>NaN</td>\n",
       "      <td>NaN</td>\n",
       "      <td>NaN</td>\n",
       "      <td>NaN</td>\n",
       "    </tr>\n",
       "    <tr>\n",
       "      <th>50%</th>\n",
       "      <td>NaN</td>\n",
       "      <td>NaN</td>\n",
       "      <td>NaN</td>\n",
       "      <td>2020.000000</td>\n",
       "      <td>NaN</td>\n",
       "      <td>29.000000</td>\n",
       "      <td>1.000000</td>\n",
       "      <td>NaN</td>\n",
       "      <td>NaN</td>\n",
       "      <td>NaN</td>\n",
       "      <td>NaN</td>\n",
       "    </tr>\n",
       "    <tr>\n",
       "      <th>75%</th>\n",
       "      <td>NaN</td>\n",
       "      <td>NaN</td>\n",
       "      <td>NaN</td>\n",
       "      <td>2021.000000</td>\n",
       "      <td>NaN</td>\n",
       "      <td>108.000000</td>\n",
       "      <td>3.000000</td>\n",
       "      <td>NaN</td>\n",
       "      <td>NaN</td>\n",
       "      <td>NaN</td>\n",
       "      <td>NaN</td>\n",
       "    </tr>\n",
       "    <tr>\n",
       "      <th>max</th>\n",
       "      <td>NaN</td>\n",
       "      <td>NaN</td>\n",
       "      <td>NaN</td>\n",
       "      <td>2021.000000</td>\n",
       "      <td>NaN</td>\n",
       "      <td>2021.000000</td>\n",
       "      <td>16.000000</td>\n",
       "      <td>NaN</td>\n",
       "      <td>NaN</td>\n",
       "      <td>NaN</td>\n",
       "      <td>NaN</td>\n",
       "    </tr>\n",
       "  </tbody>\n",
       "</table>\n",
       "</div>"
      ],
      "text/plain": [
       "                          id  \\\n",
       "count                    500   \n",
       "unique                   500   \n",
       "top     doi:10.3390/f9040223   \n",
       "freq                       1   \n",
       "mean                     NaN   \n",
       "std                      NaN   \n",
       "min                      NaN   \n",
       "25%                      NaN   \n",
       "50%                      NaN   \n",
       "75%                      NaN   \n",
       "max                      NaN   \n",
       "\n",
       "                                                    title             type  \\\n",
       "count                                                 500              500   \n",
       "unique                                                500                3   \n",
       "top     A Systematic Review Of Construction And Demoli...  journal-article   \n",
       "freq                                                    1              478   \n",
       "mean                                                  NaN              NaN   \n",
       "std                                                   NaN              NaN   \n",
       "min                                                   NaN              NaN   \n",
       "25%                                                   NaN              NaN   \n",
       "50%                                                   NaN              NaN   \n",
       "75%                                                   NaN              NaN   \n",
       "max                                                   NaN              NaN   \n",
       "\n",
       "        publication_year issue       volume    chapter publication_venue  \\\n",
       "count         500.000000   347   443.000000   7.000000               500   \n",
       "unique               NaN    30          NaN        NaN               297   \n",
       "top                  NaN     1          NaN        NaN    Scientometrics   \n",
       "freq                 NaN    69          NaN        NaN                50   \n",
       "mean         2019.558000   NaN    94.415350   3.714286               NaN   \n",
       "std             1.512353   NaN   244.443442   5.618846               NaN   \n",
       "min          2014.000000   NaN     1.000000   1.000000               NaN   \n",
       "25%          2018.000000   NaN    13.000000   1.000000               NaN   \n",
       "50%          2020.000000   NaN    29.000000   1.000000               NaN   \n",
       "75%          2021.000000   NaN   108.000000   3.000000               NaN   \n",
       "max          2021.000000   NaN  2021.000000  16.000000               NaN   \n",
       "\n",
       "       venue_type     publisher  \\\n",
       "count         500           500   \n",
       "unique          3            33   \n",
       "top       journal  crossref:297   \n",
       "freq          478           145   \n",
       "mean          NaN           NaN   \n",
       "std           NaN           NaN   \n",
       "min           NaN           NaN   \n",
       "25%           NaN           NaN   \n",
       "50%           NaN           NaN   \n",
       "75%           NaN           NaN   \n",
       "max           NaN           NaN   \n",
       "\n",
       "                                                    event  \n",
       "count                                                  15  \n",
       "unique                                                 12  \n",
       "top     22nd International Conference on Knowledge Eng...  \n",
       "freq                                                    3  \n",
       "mean                                                  NaN  \n",
       "std                                                   NaN  \n",
       "min                                                   NaN  \n",
       "25%                                                   NaN  \n",
       "50%                                                   NaN  \n",
       "75%                                                   NaN  \n",
       "max                                                   NaN  "
      ]
     },
     "execution_count": 10,
     "metadata": {},
     "output_type": "execute_result"
    }
   ],
   "source": [
    "from pandas import read_csv\n",
    "publicationsrclean = read_csv(\"clean_relational_publications.csv\")\n",
    "publicationsrclean.info()\n",
    "publicationsrclean.describe(include=\"all\")"
   ]
  },
  {
   "cell_type": "markdown",
   "id": "6e65f4a3-997d-4e59-b164-1eb0d7c1ecf8",
   "metadata": {},
   "source": [
    "Most of the changes we can observe here are related to the alteration of publications with value \"0\" for the \"chapter\" column, and the alteration of some publications into proceedings papers:\n",
    "* The average chapter number is no longer less than 1, given that we have inserted the correct chapter numbers for the two publications which had chapter number 0\n",
    "* There are now 3 unique values for the column \"type\" instead of only 2\n",
    "* The \"event\" column has been populated with 15 values to reflect the 15 publications transformed into proceedings papers \n",
    "\n",
    "The following code and visualisation takes a closer look at the change in publication types, confirming that several publications are now re-classified as proceedings papers (although journal articles still far outstrip proceedings papers and book chapters in frequency)."
   ]
  },
  {
   "cell_type": "code",
   "execution_count": 11,
   "id": "86c70858-f2a9-416f-86ed-054613ac74df",
   "metadata": {},
   "outputs": [
    {
     "data": {
      "text/plain": [
       "array(['journal-article', 'proceedings-paper', 'book-chapter'],\n",
       "      dtype=object)"
      ]
     },
     "execution_count": 11,
     "metadata": {},
     "output_type": "execute_result"
    }
   ],
   "source": [
    "publicationsrclean[\"type\"].unique()"
   ]
  },
  {
   "cell_type": "code",
   "execution_count": 12,
   "id": "97135f5d-b4ff-430d-a2d1-3f389da6b814",
   "metadata": {},
   "outputs": [
    {
     "data": {
      "text/plain": [
       "<AxesSubplot:>"
      ]
     },
     "execution_count": 12,
     "metadata": {},
     "output_type": "execute_result"
    },
    {
     "data": {
      "image/png": "[encoded data removed]",
      "text/plain": [
       "<Figure size 432x288 with 1 Axes>"
      ]
     },
     "metadata": {
      "needs_background": "light"
     },
     "output_type": "display_data"
    }
   ],
   "source": [
    "type_countrclean = publicationsrclean[\"type\"].value_counts()\n",
    "type_countrclean.plot(kind=\"bar\")"
   ]
  },
  {
   "cell_type": "markdown",
   "id": "ec924ed2-d0a6-4cfa-b82c-5809ca17cd03",
   "metadata": {},
   "source": [
    "#### 1.1.5. Remarks Prior to the Construction of the Relational Database"
   ]
  },
  {
   "cell_type": "markdown",
   "id": "be45ebb1-72d3-48ea-8420-4c1e5f07e29d",
   "metadata": {},
   "source": [
    "In order to construct the Pandas DataFrames needed to populate the relational database, several assumptions were made: \n",
    "* IdentifiableEntity is the superclass of the classes Person, Publication, Venue, and Organization, meaning that these subclasses inherit its id attribute \n",
    "* People, publications, venues, and organisations (i.e. publishers) all have 1 or more ids, as per this attribute's arity in the UML diagram\n",
    "* The id of each of these classes was assumed to be: Person (the orcid value from the “authors” “dictionary” in the JSON file); Publication (the doi from the \"id\" column in the CSV file); Venue (the issn and/or isbn value from the “venues_id” “dictionary” of the JSON file); Organization (the crossref value in the “publishers” “dictionary” of the JSON file)\n",
    "* From inspecting the CSV and JSON files, we can conclude that only the class Venue ever has more than 1 id/issn/isbn value. The classes Person, Publication, and Organization only ever have 1 id value\n",
    "* This means that only the id attribute of venues (Journal, Book, Proceedings) was considered to be multi-valued, and only this version of id was supplemented by a complementary, VenueId table (accessed by merging the particular venue table with the VenueId table)\n",
    "* Other multi-valued relations, as per the UML diagram, were considered to be: author (reflected in a table entitled AuthorGroup) and cites (reflected in a table entitled Cites)\n",
    "* The Pandas DataFrames created to populate the database were therefore: VenueId, AuthorGroup, Cites, Person, Organization, Journal, Book, Proceedings, JournalArticle, BookChapter, and ProceedingsPaper\n",
    "\n",
    "It was also noted that certain values in the CSV and JSON files incorporated a kind of prefix. For Example:\n",
    "* dois are in the form \"doi:....\"\n",
    "* publisher ids are in the form \"crossref:...\"\n",
    "* isbn and issn numbers are in the form \"isbn:...\" and \"issn:...\"\n",
    "\n",
    "These prefixes were left as they are in the construction of the relational database and it was assumed that when inputting parameters into the methods, these would be included. However, it is noted that it could be a possibility to build into these methods a way to accept input without the prefix. Equally it could be a possibility to iterate over the CSV and JSON files prior to constructing the relational database, in order to remove them"
   ]
  },
  {
   "cell_type": "markdown",
   "id": "061958f7-ee5a-421b-9156-ee7b0742ca8b",
   "metadata": {},
   "source": [
    "<center><img src=\"Images/KungFuPandaSushi.jpg\" width=\"500\"/><center>"
   ]
  },
  {
   "cell_type": "markdown",
   "id": "e23fb489-d4d6-4036-a358-f4a4368aca61",
   "metadata": {},
   "source": [
    "#### 1.1.6. Remarks on Additions to the Relational Query Processor"
   ]
  },
  {
   "cell_type": "markdown",
   "id": "9f38789d-e4c8-4351-8520-d16ffb29901b",
   "metadata": {},
   "source": [
    "During the construction of the methods associated with the Relational Query Processor, several additions were made to the methods outlined in the UML diagram. 10 methods were added:\n",
    "\n",
    "* .getMultiValuePublicationInfoDataFrameFromDoi(id : string) : DataFrame - a method which takes the doi of a publication and creates a DataFrame of internal ids related to that publication for the AuthorGroup, Cites, and VenueId tables \n",
    "* .getcreateCompletePublicationInfoTableFromDoi(doi : string) : DataFrame - a method which takes the doi of a publication and creates a DataFrame of all basic information about that publication (InternalId, id, title, publicationYear, issue, volume, chapterNumber, type) and which also combines this df with the result of the above, MultiValuePublicationInfoDataFrameFromDoi method\n",
    "* .getJournalArticle(id : string, volume=\"\" : string, issue=\"\" : string) : DataFrame - a method preventing the repetition of code for 3 of the Relational Query Processor's methods involving Journal objects. This method is called to provide the results of the .getJournalArticlesInIssue, .getJournalArticlesInVolume, and .getJournalArticlesInJournal methods\n",
    "* .getcreatePublicationObjectFromDoiRelational(doi : string) : Publication - this method is used extensively in the Generic Query Processor in order to create Publication objects in an automated, unrepetitive way. This method uses many of the methods which follow in order to access the information necessary for creating Publication objects. This method was particularly useful for overcoming the mise-en-abyme dilemma of how to create a Publication object which contains Publication objects within it (in the form of its cited publications). This method is able to be called recursively for each publication cited by the initial input publication, with a base case, terminating scenario of a publication having 0 cited publications\n",
    "* .getVenueIdListByVenueInternalId(id : string) : List[string]\n",
    "* .getVenueInfoByPublicationId(id : string) : DataFrame\n",
    "* .getVenueInfoByVenueId(id : string) : DataFrame\n",
    "* .getAuthorSetByAuthorGroupInternalId(id : string) : Set[Person]\n",
    "* .getIdsOfCitedPublications(id : string) : List[string]\n",
    "* .getOrganizationObjectFromPublisherId(id : string) : Organization\n",
    "\n",
    "\n",
    "The following simple function is also defined before constructing the relational processors:\n",
    "\n",
    "* CreateListFromDataFrameColumn(DataFrame(), columnName : string) : List[string] - a function enabling the automatic creation of a list from the values of 1 column of a DataFrame\n"
   ]
  },
  {
   "cell_type": "markdown",
   "id": "64bf85d4-3f1b-4cf7-aa83-673f54c056d7",
   "metadata": {},
   "source": [
    "### 1.2. Graph Triplestore Data"
   ]
  },
  {
   "cell_type": "markdown",
   "id": "e62258c6-cd11-47ab-beb3-1eecda577639",
   "metadata": {},
   "source": [
    "#### 1.2.1. Introductory Descriptive Statistics"
   ]
  },
  {
   "cell_type": "markdown",
   "id": "f6d10ece-8c10-43dc-809c-500ffbfcd281",
   "metadata": {},
   "source": [
    "As before, we can use the info method to gather initial information about the CSV file for the Graph Triplestore."
   ]
  },
  {
   "cell_type": "code",
   "execution_count": 13,
   "id": "478b7d59-fb09-429c-b2fb-7f33be2999c6",
   "metadata": {},
   "outputs": [
    {
     "name": "stdout",
     "output_type": "stream",
     "text": [
      "<class 'pandas.core.frame.DataFrame'>\n",
      "RangeIndex: 500 entries, 0 to 499\n",
      "Data columns (total 11 columns):\n",
      " #   Column             Non-Null Count  Dtype  \n",
      "---  ------             --------------  -----  \n",
      " 0   id                 500 non-null    object \n",
      " 1   title              500 non-null    object \n",
      " 2   type               500 non-null    object \n",
      " 3   publication_year   500 non-null    int64  \n",
      " 4   issue              303 non-null    object \n",
      " 5   volume             391 non-null    object \n",
      " 6   chapter            93 non-null     float64\n",
      " 7   publication_venue  486 non-null    object \n",
      " 8   venue_type         486 non-null    object \n",
      " 9   publisher          486 non-null    object \n",
      " 10  event              0 non-null      float64\n",
      "dtypes: float64(2), int64(1), object(8)\n",
      "memory usage: 43.1+ KB\n"
     ]
    }
   ],
   "source": [
    "publicationsg = read_csv(\"graph_publications.csv\")\n",
    "publicationsg.info()"
   ]
  },
  {
   "cell_type": "markdown",
   "id": "871c8893-a372-4328-be37-28ba36acf804",
   "metadata": {},
   "source": [
    "We can draw exactly the same conclusions as for the CSV file for the relational database. To reiterate:\n",
    "* The CSV file contains 500 rows and 11 columns\n",
    "* The column names are: \"id\", \"title\", \"type\", \"publication_year\", \"issue\", \"volume\", \"chapter\", \"publication_venue\", \"venue_type\", \"publisher\", \"event\"\n",
    "* The \"id\", \"title\", \"type\", and \"publication_year\" columns always have a value\n",
    "* The \"issue\", \"volume\", \"chapter\", \"publication_year\", \"venue_type\", and \"publisher\" columns do not always have a value\n",
    "* The \"event\" column never has a value\n",
    "* The columns \"chapter\" and \"event\" contain values considered to be floating numbers, when the UML diagram tells us they should be integers and strings respectively"
   ]
  },
  {
   "cell_type": "markdown",
   "id": "f82b4d79-5e1d-4eeb-bf4a-2717421a5641",
   "metadata": {},
   "source": [
    "The following code uses the describe method to gather more statistical information on the CSV file for the graph triplestore."
   ]
  },
  {
   "cell_type": "code",
   "execution_count": 14,
   "id": "145236cc-48f5-4171-a1bc-337417b91759",
   "metadata": {},
   "outputs": [
    {
     "data": {
      "text/html": [
       "<div>\n",
       "<style scoped>\n",
       "    .dataframe tbody tr th:only-of-type {\n",
       "        vertical-align: middle;\n",
       "    }\n",
       "\n",
       "    .dataframe tbody tr th {\n",
       "        vertical-align: top;\n",
       "    }\n",
       "\n",
       "    .dataframe thead th {\n",
       "        text-align: right;\n",
       "    }\n",
       "</style>\n",
       "<table border=\"1\" class=\"dataframe\">\n",
       "  <thead>\n",
       "    <tr style=\"text-align: right;\">\n",
       "      <th></th>\n",
       "      <th>id</th>\n",
       "      <th>title</th>\n",
       "      <th>type</th>\n",
       "      <th>publication_year</th>\n",
       "      <th>issue</th>\n",
       "      <th>volume</th>\n",
       "      <th>chapter</th>\n",
       "      <th>publication_venue</th>\n",
       "      <th>venue_type</th>\n",
       "      <th>publisher</th>\n",
       "      <th>event</th>\n",
       "    </tr>\n",
       "  </thead>\n",
       "  <tbody>\n",
       "    <tr>\n",
       "      <th>count</th>\n",
       "      <td>500</td>\n",
       "      <td>500</td>\n",
       "      <td>500</td>\n",
       "      <td>500.000000</td>\n",
       "      <td>303</td>\n",
       "      <td>391</td>\n",
       "      <td>93.000000</td>\n",
       "      <td>486</td>\n",
       "      <td>486</td>\n",
       "      <td>486</td>\n",
       "      <td>0.0</td>\n",
       "    </tr>\n",
       "    <tr>\n",
       "      <th>unique</th>\n",
       "      <td>500</td>\n",
       "      <td>497</td>\n",
       "      <td>2</td>\n",
       "      <td>NaN</td>\n",
       "      <td>38</td>\n",
       "      <td>116</td>\n",
       "      <td>NaN</td>\n",
       "      <td>299</td>\n",
       "      <td>2</td>\n",
       "      <td>37</td>\n",
       "      <td>NaN</td>\n",
       "    </tr>\n",
       "    <tr>\n",
       "      <th>top</th>\n",
       "      <td>doi:10.1186/s12911-017-0568-4</td>\n",
       "      <td>Cytargetlinker App Update: A Flexible Solution...</td>\n",
       "      <td>journal-article</td>\n",
       "      <td>NaN</td>\n",
       "      <td>1</td>\n",
       "      <td>11</td>\n",
       "      <td>NaN</td>\n",
       "      <td>Applied Sciences</td>\n",
       "      <td>journal</td>\n",
       "      <td>crossref:297</td>\n",
       "      <td>NaN</td>\n",
       "    </tr>\n",
       "    <tr>\n",
       "      <th>freq</th>\n",
       "      <td>1</td>\n",
       "      <td>2</td>\n",
       "      <td>407</td>\n",
       "      <td>NaN</td>\n",
       "      <td>63</td>\n",
       "      <td>22</td>\n",
       "      <td>NaN</td>\n",
       "      <td>15</td>\n",
       "      <td>407</td>\n",
       "      <td>173</td>\n",
       "      <td>NaN</td>\n",
       "    </tr>\n",
       "    <tr>\n",
       "      <th>mean</th>\n",
       "      <td>NaN</td>\n",
       "      <td>NaN</td>\n",
       "      <td>NaN</td>\n",
       "      <td>2019.132000</td>\n",
       "      <td>NaN</td>\n",
       "      <td>NaN</td>\n",
       "      <td>0.849462</td>\n",
       "      <td>NaN</td>\n",
       "      <td>NaN</td>\n",
       "      <td>NaN</td>\n",
       "      <td>NaN</td>\n",
       "    </tr>\n",
       "    <tr>\n",
       "      <th>std</th>\n",
       "      <td>NaN</td>\n",
       "      <td>NaN</td>\n",
       "      <td>NaN</td>\n",
       "      <td>1.775636</td>\n",
       "      <td>NaN</td>\n",
       "      <td>NaN</td>\n",
       "      <td>0.359536</td>\n",
       "      <td>NaN</td>\n",
       "      <td>NaN</td>\n",
       "      <td>NaN</td>\n",
       "      <td>NaN</td>\n",
       "    </tr>\n",
       "    <tr>\n",
       "      <th>min</th>\n",
       "      <td>NaN</td>\n",
       "      <td>NaN</td>\n",
       "      <td>NaN</td>\n",
       "      <td>2011.000000</td>\n",
       "      <td>NaN</td>\n",
       "      <td>NaN</td>\n",
       "      <td>0.000000</td>\n",
       "      <td>NaN</td>\n",
       "      <td>NaN</td>\n",
       "      <td>NaN</td>\n",
       "      <td>NaN</td>\n",
       "    </tr>\n",
       "    <tr>\n",
       "      <th>25%</th>\n",
       "      <td>NaN</td>\n",
       "      <td>NaN</td>\n",
       "      <td>NaN</td>\n",
       "      <td>2018.000000</td>\n",
       "      <td>NaN</td>\n",
       "      <td>NaN</td>\n",
       "      <td>1.000000</td>\n",
       "      <td>NaN</td>\n",
       "      <td>NaN</td>\n",
       "      <td>NaN</td>\n",
       "      <td>NaN</td>\n",
       "    </tr>\n",
       "    <tr>\n",
       "      <th>50%</th>\n",
       "      <td>NaN</td>\n",
       "      <td>NaN</td>\n",
       "      <td>NaN</td>\n",
       "      <td>2019.000000</td>\n",
       "      <td>NaN</td>\n",
       "      <td>NaN</td>\n",
       "      <td>1.000000</td>\n",
       "      <td>NaN</td>\n",
       "      <td>NaN</td>\n",
       "      <td>NaN</td>\n",
       "      <td>NaN</td>\n",
       "    </tr>\n",
       "    <tr>\n",
       "      <th>75%</th>\n",
       "      <td>NaN</td>\n",
       "      <td>NaN</td>\n",
       "      <td>NaN</td>\n",
       "      <td>2021.000000</td>\n",
       "      <td>NaN</td>\n",
       "      <td>NaN</td>\n",
       "      <td>1.000000</td>\n",
       "      <td>NaN</td>\n",
       "      <td>NaN</td>\n",
       "      <td>NaN</td>\n",
       "      <td>NaN</td>\n",
       "    </tr>\n",
       "    <tr>\n",
       "      <th>max</th>\n",
       "      <td>NaN</td>\n",
       "      <td>NaN</td>\n",
       "      <td>NaN</td>\n",
       "      <td>2022.000000</td>\n",
       "      <td>NaN</td>\n",
       "      <td>NaN</td>\n",
       "      <td>1.000000</td>\n",
       "      <td>NaN</td>\n",
       "      <td>NaN</td>\n",
       "      <td>NaN</td>\n",
       "      <td>NaN</td>\n",
       "    </tr>\n",
       "  </tbody>\n",
       "</table>\n",
       "</div>"
      ],
      "text/plain": [
       "                                   id  \\\n",
       "count                             500   \n",
       "unique                            500   \n",
       "top     doi:10.1186/s12911-017-0568-4   \n",
       "freq                                1   \n",
       "mean                              NaN   \n",
       "std                               NaN   \n",
       "min                               NaN   \n",
       "25%                               NaN   \n",
       "50%                               NaN   \n",
       "75%                               NaN   \n",
       "max                               NaN   \n",
       "\n",
       "                                                    title             type  \\\n",
       "count                                                 500              500   \n",
       "unique                                                497                2   \n",
       "top     Cytargetlinker App Update: A Flexible Solution...  journal-article   \n",
       "freq                                                    2              407   \n",
       "mean                                                  NaN              NaN   \n",
       "std                                                   NaN              NaN   \n",
       "min                                                   NaN              NaN   \n",
       "25%                                                   NaN              NaN   \n",
       "50%                                                   NaN              NaN   \n",
       "75%                                                   NaN              NaN   \n",
       "max                                                   NaN              NaN   \n",
       "\n",
       "        publication_year issue volume    chapter publication_venue venue_type  \\\n",
       "count         500.000000   303    391  93.000000               486        486   \n",
       "unique               NaN    38    116        NaN               299          2   \n",
       "top                  NaN     1     11        NaN  Applied Sciences    journal   \n",
       "freq                 NaN    63     22        NaN                15        407   \n",
       "mean         2019.132000   NaN    NaN   0.849462               NaN        NaN   \n",
       "std             1.775636   NaN    NaN   0.359536               NaN        NaN   \n",
       "min          2011.000000   NaN    NaN   0.000000               NaN        NaN   \n",
       "25%          2018.000000   NaN    NaN   1.000000               NaN        NaN   \n",
       "50%          2019.000000   NaN    NaN   1.000000               NaN        NaN   \n",
       "75%          2021.000000   NaN    NaN   1.000000               NaN        NaN   \n",
       "max          2022.000000   NaN    NaN   1.000000               NaN        NaN   \n",
       "\n",
       "           publisher  event  \n",
       "count            486    0.0  \n",
       "unique            37    NaN  \n",
       "top     crossref:297    NaN  \n",
       "freq             173    NaN  \n",
       "mean             NaN    NaN  \n",
       "std              NaN    NaN  \n",
       "min              NaN    NaN  \n",
       "25%              NaN    NaN  \n",
       "50%              NaN    NaN  \n",
       "75%              NaN    NaN  \n",
       "max              NaN    NaN  "
      ]
     },
     "execution_count": 14,
     "metadata": {},
     "output_type": "execute_result"
    }
   ],
   "source": [
    "publicationsg.describe(include=\"all\")"
   ]
  },
  {
   "cell_type": "markdown",
   "id": "e6d3e8f6-63ab-4d9c-bf7d-22d63559c10c",
   "metadata": {},
   "source": [
    "We can conclude:\n",
    "* The \"id\" column always has a unique value\n",
    "* Unlike in the relational data file, the \"title\" column does not always have a unique value (one title appears twice, although we can deduce that it appears under a different id value since every value in the \"id\" column is unique)\n",
    "* As in the relational data file, the \"type\" column only has 2 unique values (again, we can conclude that these are journal articles and book chapters, and that no publication is a proceedings paper)\n",
    "* The above also means that the \"venue_type\" column, again, only has 2 unique values (and we can deduce these are journals and books)\n",
    "* Again, most publications in the file, 407 out of 500, are journal articles\n",
    "* The above is also reflected in the preponderance of journals as the publications' venue type, 407 out of 500\n",
    "* 486 publications have a publication venue, meaning only 14 do not\n",
    "* 173 of the 500 publications were published by the same publisher \n",
    "* The mean year of publication is ~2019\n",
    "* The earliest year of publication is 2011, while the latest is 2022\n",
    "* As in the relational data file, the mean chapter number for book chapters is 0.849462, again implying that some publications have a chapter number less than 1"
   ]
  },
  {
   "cell_type": "markdown",
   "id": "ca57adc0-9f83-440a-880f-8cd515d2d7ae",
   "metadata": {},
   "source": [
    "#### 1.2.2. Visualisations"
   ]
  },
  {
   "cell_type": "markdown",
   "id": "6c2c6279-0ddb-44b2-a6e4-1b6dc9716cad",
   "metadata": {},
   "source": [
    "We can carry out similar visualisations as for the CSV file for relational data. Again, we can use the unique method to confirm no publications are proceedings papers, and then the value_counts method followed by the plot method to visualise this (and to see the dominance of journal articles over book chapters)."
   ]
  },
  {
   "cell_type": "code",
   "execution_count": 15,
   "id": "59beae38-8226-47f0-bdfd-46ac4a07078b",
   "metadata": {},
   "outputs": [
    {
     "data": {
      "text/plain": [
       "array(['journal-article', 'book-chapter'], dtype=object)"
      ]
     },
     "execution_count": 15,
     "metadata": {},
     "output_type": "execute_result"
    }
   ],
   "source": [
    "publicationsg[\"type\"].unique()"
   ]
  },
  {
   "cell_type": "code",
   "execution_count": 16,
   "id": "086d045a-d595-42fc-b204-871ddb0f1d39",
   "metadata": {},
   "outputs": [
    {
     "data": {
      "text/plain": [
       "<AxesSubplot:>"
      ]
     },
     "execution_count": 16,
     "metadata": {},
     "output_type": "execute_result"
    },
    {
     "data": {
      "image/png": "[encoded data removed]",
      "text/plain": [
       "<Figure size 432x288 with 1 Axes>"
      ]
     },
     "metadata": {
      "needs_background": "light"
     },
     "output_type": "display_data"
    }
   ],
   "source": [
    "type_countg = publicationsg[\"type\"].value_counts()\n",
    "type_countg.plot(kind=\"bar\")"
   ]
  },
  {
   "cell_type": "markdown",
   "id": "e3fa0347-f663-42fc-b15c-1b5f7db57e7e",
   "metadata": {},
   "source": [
    "Out of interest, we can again use a bar plot to visualise the top ten publication venues. While there is one clear top publication venue (\"Applied Sciences\"), the venues are, in general, more evenly spread than in the CSV file for the relational database."
   ]
  },
  {
   "cell_type": "code",
   "execution_count": 17,
   "id": "8af62856-5aca-4a98-9242-a4ae111ea9f2",
   "metadata": {},
   "outputs": [
    {
     "data": {
      "text/plain": [
       "<AxesSubplot:>"
      ]
     },
     "execution_count": 17,
     "metadata": {},
     "output_type": "execute_result"
    },
    {
     "data": {
      "image/png": "[encoded data removed]",
      "text/plain": [
       "<Figure size 432x288 with 1 Axes>"
      ]
     },
     "metadata": {
      "needs_background": "light"
     },
     "output_type": "display_data"
    }
   ],
   "source": [
    "top_venuesg = publicationsg[\"publication_venue\"].value_counts()[:10]\n",
    "top_venuesg.plot(kind=\"barh\")"
   ]
  },
  {
   "cell_type": "markdown",
   "id": "4057992f-32c6-45dd-a741-70be3c533cf7",
   "metadata": {},
   "source": [
    "We can again carry out the same operation to visualise the top ten publishers of publications. Much like in the relational data, there appears to be a publisher monopoly. Here, just 1 publisher publishes the great majority of publications."
   ]
  },
  {
   "cell_type": "code",
   "execution_count": 18,
   "id": "218545db-d9f8-4ed4-819f-e02b1221bc9e",
   "metadata": {},
   "outputs": [
    {
     "data": {
      "text/plain": [
       "<AxesSubplot:>"
      ]
     },
     "execution_count": 18,
     "metadata": {},
     "output_type": "execute_result"
    },
    {
     "data": {
      "image/png": "[encoded data removed]",
      "text/plain": [
       "<Figure size 432x288 with 1 Axes>"
      ]
     },
     "metadata": {
      "needs_background": "light"
     },
     "output_type": "display_data"
    }
   ],
   "source": [
    "top_publishersg = publicationsg[\"publisher\"].value_counts()[:10]\n",
    "top_publishersg.plot(kind=\"barh\")"
   ]
  },
  {
   "cell_type": "markdown",
   "id": "42f4b947-d1ff-4675-826b-ce3c98f218d1",
   "metadata": {},
   "source": [
    "Finally, we can again use a time series to visualise the number of publications per year. We see that the number of publications rose relatively steadily between 2011 and 2121, before crashing suddenly in 2022 (perhaps because this data was collected at the very beginning of the year)."
   ]
  },
  {
   "cell_type": "code",
   "execution_count": 19,
   "id": "003517fe-7644-454f-83f8-d2978c06e9e4",
   "metadata": {},
   "outputs": [
    {
     "data": {
      "text/plain": [
       "<AxesSubplot:>"
      ]
     },
     "execution_count": 19,
     "metadata": {},
     "output_type": "execute_result"
    },
    {
     "data": {
      "image/png": "[encoded data removed]",
      "text/plain": [
       "<Figure size 432x288 with 1 Axes>"
      ]
     },
     "metadata": {
      "needs_background": "light"
     },
     "output_type": "display_data"
    }
   ],
   "source": [
    "publicationsg_per_year = publicationsg[\"publication_year\"].value_counts()\n",
    "publicationsg_per_year_sorted = publicationsg_per_year.sort_index()\n",
    "publicationsg_per_year_sorted.plot()"
   ]
  },
  {
   "cell_type": "markdown",
   "id": "2e6245a7-4275-4fce-a061-f6e06413e8b1",
   "metadata": {},
   "source": [
    "#### 1.2.3 Reflections on Descriptive Statistics"
   ]
  },
  {
   "cell_type": "markdown",
   "id": "56e452ba-f678-4aa4-88fd-0110e4973cb8",
   "metadata": {},
   "source": [
    "Analysing the CSV data for the graph triplestore using descriptive statistics methods allows us to draw exactly the same conclusions as for the CSV file for the relational database. To reiterate, these were:\n",
    "* No publications are proceedings papers, meaning no publication venues are proceedings, and no publications have the event attribute\n",
    "* If we take the \"id\" column to represent the id attribute of the class IdentifiableEntity, it is worth noting that, for publications, there is never more than 1 value (the UML model indicates that there may be 1 or more)\n",
    "* Since the mean chapter number is less than 1, we can infer that some publications have been assigned 0 as a chapter number \n",
    "* The value for the \"publisher\" column is a reference number in the form 'crossref:XX(XX)'\n",
    "\n",
    "\n",
    "Again, we can combine these conclusions with some conclusions drawn from manually looking at the file:\n",
    "* If present, the value for the \"issue\" column is sometimes an integer, sometimes in the form 'YX(X)' where Y is a capital letter and X is a number, and once in the form 'Supplement_1'\n",
    "* If present, the value for the \"volume\" column is sometimes an integer, sometimes a four number integer (like a year), and once in the form '809-810'\n",
    "* Some values for the \"title\" and \"publication_venue\" columns have character encoding errors\n",
    "* Some values for the \"publication_venue\" column have a title preceded by 'F1000'"
   ]
  },
  {
   "cell_type": "markdown",
   "id": "abcd3e35-aa76-4b2b-9e00-786f9bd210c3",
   "metadata": {},
   "source": [
    "<center><img src=\"Images/KungFuPandaJedi.jpg\" width=\"500\"/><center>"
   ]
  },
  {
   "cell_type": "markdown",
   "id": "7734802b-5132-4e30-b3b7-b64828f10fbd",
   "metadata": {},
   "source": [
    "## 2. Taking a Look at the JSON Data Files"
   ]
  },
  {
   "cell_type": "markdown",
   "id": "f72205c2-ca33-4554-8e7e-92132bec7a56",
   "metadata": {},
   "source": [
    "The JSON files for both the relational database and the graph triplestore are composed of 4 \"dictionaries\" (the line number indicates the line at which each \"dictionary\" begins):\n",
    "* \"authors\" (relational: line 2, graph: line 2)\n",
    "* \"venues_id\" (relational: line 6710, graph: line 8216)\n",
    "* \"references\" (relational: line 8449, graph: line 9944)\n",
    "* \"publishers\" (relational: line 9286, graph: line 10925)"
   ]
  },
  {
   "cell_type": "markdown",
   "id": "bdd3969f-1ecd-4ef6-8dd0-ee9382a5c96b",
   "metadata": {},
   "source": [
    "##### 2.1. \"authors\"\n",
    "The value of the “authors” “dictionary” is another “dictionary”. \n",
    "\n",
    "The keys of this dictionary are ‘doi’s, and the value is a list of dictionaries. \n",
    "\n",
    "Within each dictionary in the list are the keys: \n",
    "* “family” (for family name)\n",
    "* “given” (for first name)\n",
    "* “orcid” (a type of identification number) in the form “XXXX-XXXX-XXXX-XXXX” where X represents a number or a letter"
   ]
  },
  {
   "cell_type": "markdown",
   "id": "fce3248d-32c7-4903-9d66-cc1550fe8c26",
   "metadata": {},
   "source": [
    "##### 2.2. \"venues_id\""
   ]
  },
  {
   "cell_type": "markdown",
   "id": "0952d26d-ed95-4f0b-bad1-bbfcce5b9eba",
   "metadata": {},
   "source": [
    "The value of the “venues_id” “dictionary” is another “dictionary”.\n",
    "\n",
    "The keys of this dictionary are ‘doi’s, and the value is a list.\n",
    "\n",
    "The list is composed of 1 or more “issn” (in the form “issn:XXXX-XXXX” where X represents a number) or “isbn” (in the form “isbn:XXXXXXXXXXXXX” where X represents a number) numbers."
   ]
  },
  {
   "cell_type": "markdown",
   "id": "931d033a-4201-462a-b42c-d76129dcf520",
   "metadata": {},
   "source": [
    "##### 2.3. \"references\""
   ]
  },
  {
   "cell_type": "markdown",
   "id": "bd503061-b651-412b-bee5-a7b3fd801bf5",
   "metadata": {},
   "source": [
    "The value of the “references” “dictionary” is another “dictionary”. \n",
    "\n",
    "The keys of this dictionary are ‘doi’s, and the value is a list.\n",
    "\n",
    "The list is composed of 0 or more dois in the form “doi:X” where X represents any combination of letters, numbers, hyphens, full stops, and slashes."
   ]
  },
  {
   "cell_type": "markdown",
   "id": "b3728015-b0cf-4226-8853-d50dec46000e",
   "metadata": {},
   "source": [
    "##### 2.4. \"publishers\""
   ]
  },
  {
   "cell_type": "markdown",
   "id": "26d92bb6-6966-4e6a-a7a9-9a4ec837dbba",
   "metadata": {},
   "source": [
    "The value of the “publishers” “dictionary” is another “dictionary”. \n",
    "\n",
    "The keys of this dictionary are publisher id codes in the form “crossref:XX(XX)” where X is a number, and the value is another dictionary. \n",
    "\n",
    "This dictionary has the keys: \n",
    "* “id” (which repeats the \"crossref:XX(XX)\" key) \n",
    "* “Name” (a string of the publisher’s name)."
   ]
  },
  {
   "cell_type": "markdown",
   "id": "a855dbcb-b2c5-4531-a192-21b7320b84ef",
   "metadata": {},
   "source": [
    "<center><img src=\"Images/KungFuPandaScream.jpg\" width=\"500\"/><center>"
   ]
  },
  {
   "cell_type": "markdown",
   "id": "ab027f10-ffc3-4292-9d89-01db0c5069ee",
   "metadata": {},
   "source": [
    "## 3. Description of Project Files"
   ]
  },
  {
   "cell_type": "markdown",
   "id": "f52d0691-9d6d-45fa-b2d3-ca90d7e7d72c",
   "metadata": {},
   "source": [
    "### 3.1. Data"
   ]
  },
  {
   "cell_type": "markdown",
   "id": "1a4abac5-ab13-474a-ba37-b4ebe2f9718f",
   "metadata": {},
   "source": [
    "The folder entitled \"Data\" contains all the files of data relating to the project, as well as the python file, \"CodeToCleanRelationalData.py\", that was used to clean the relational data files before construction of the relational database."
   ]
  },
  {
   "cell_type": "markdown",
   "id": "5cb3fa84-9a83-4507-a2ad-95da8ba80398",
   "metadata": {},
   "source": [
    "### 3.2. impl.py"
   ]
  },
  {
   "cell_type": "markdown",
   "id": "d884dc56-b7ea-4cda-8a2f-a0a2b7bfeab5",
   "metadata": {},
   "source": [
    "The file entitled \"impl.py\" contains all of the classes, methods, and functions relating to the construction of the various processors which make up the project. It contains various sections (each separated by 5 lines of # symbols for easier identification):\n",
    "\n",
    "* UML Classes for Python Objects (18 to 147) - containing the information for all of the classes: IdentifiableEntity, Person, Publication (JournalArticle, BookChapter, ProceedingsPaper), Venue (Journal, Book, Proceedings), and Organization\n",
    "* Relational Processors (157 to 1140) - containing the information for the classes: QueryProcessor, RelationalProcessor, RelationalDataProcessor, and RelationalQueryProcessor\n",
    "* Triplestore Processors (1150 t0 2581) - containing information for the classes: TriplestoreProcessor, TriplestoreDataProcessor, and TriplestoreQueryProcessor\n",
    "* Generic Query Processor (2591 to 3003) - containing information for the class GenericQueryProcessor"
   ]
  },
  {
   "cell_type": "markdown",
   "id": "028459b8-72b3-4584-a7f2-aca41475f4e6",
   "metadata": {},
   "source": [
    "### 3.3. results.py"
   ]
  },
  {
   "cell_type": "markdown",
   "id": "5ad47f53-554a-4b33-a1be-fb1c5b18ba54",
   "metadata": {},
   "source": [
    "The file entitled \"results.py\" creates a relational database and an RDF triplestore, creates the relational and triplestore query processors, and creates a generic query processor.\n",
    "\n",
    "It then contains all of the generic query processor methods, some repeated to test the processor with both relational and triplestore data, which can be tested by changing the particular query written inside the print() statement."
   ]
  }
 ],
 "metadata": {
  "kernelspec": {
   "display_name": "Python 3",
   "language": "python",
   "name": "python3"
  },
  "language_info": {
   "codemirror_mode": {
    "name": "ipython",
    "version": 3
   },
   "file_extension": ".py",
   "mimetype": "text/x-python",
   "name": "python",
   "nbconvert_exporter": "python",
   "pygments_lexer": "ipython3",
   "version": "3.8.8"
  }
 },
 "nbformat": 4,
 "nbformat_minor": 5
}
